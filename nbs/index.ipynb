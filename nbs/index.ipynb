{
 "cells": [
  {
   "cell_type": "code",
   "execution_count": null,
   "metadata": {},
   "outputs": [],
   "source": [
    "#hide\n",
    "%load_ext autoreload\n",
    "%autoreload 2"
   ]
  },
  {
   "cell_type": "markdown",
   "metadata": {},
   "source": [
    "# Let Me Answer For You\n",
    "> A Simple and Powerful Deep Learning Dialog System for Question and Answering \n"
   ]
  },
  {
   "cell_type": "markdown",
   "metadata": {},
   "source": [
    "<img alt=\"Exporting from nbdev\" width=\"1000\" \n",
    "     caption=\"The three Dialog Systems' methods\" \n",
    "     src=\"images/let_me_answer_for_you.gif\" />"
   ]
  },
  {
   "cell_type": "markdown",
   "metadata": {},
   "source": [
    "## Requirements"
   ]
  },
  {
   "cell_type": "markdown",
   "metadata": {},
   "source": [
    "The library has been tested in `python 3.7`"
   ]
  },
  {
   "cell_type": "markdown",
   "metadata": {},
   "source": [
    "## Install"
   ]
  },
  {
   "cell_type": "markdown",
   "metadata": {},
   "source": [
    "### Pip"
   ]
  },
  {
   "cell_type": "markdown",
   "metadata": {},
   "source": [
    "The system can be installed via the `pip` command:\n",
    "```\n",
    "pip install let_me_answer_for_you\n",
    "```"
   ]
  },
  {
   "cell_type": "markdown",
   "metadata": {},
   "source": [
    "## Initialize the Dialog System "
   ]
  },
  {
   "cell_type": "markdown",
   "metadata": {},
   "source": [
    "Install the configuration files by instantiating the `SystemClass` "
   ]
  },
  {
   "cell_type": "markdown",
   "metadata": {},
   "source": [
    "```\n",
    "from let_me_answer_for_you.dialog_system import DialogSystem()\n",
    "\n",
    "ds = DialogSystem( context_data_file=None,\n",
    "        faq_data_file=None,\n",
    "        configs_faq=None,\n",
    "        download_models=True)\n",
    "```"
   ]
  },
  {
   "cell_type": "markdown",
   "metadata": {},
   "source": [
    "If the **context_data_file** or the **faq_data_file** parameters are  `None` , a *data* directory will be created in the directory where the script is running. The data directory will contain the FAQ or the context CSV files"
   ]
  },
  {
   "cell_type": "markdown",
   "metadata": {},
   "source": [
    "## Get Response"
   ]
  },
  {
   "cell_type": "markdown",
   "metadata": {},
   "source": [
    "To get a response to a question call the method `question_answer` in the instance of  `SystemClass`"
   ]
  },
  {
   "cell_type": "markdown",
   "metadata": {},
   "source": [
    "\n",
    "```\n",
    "ds.question_answer()\n",
    "\n",
    "Introduce question:\n",
    "what can you offer me at Intekglobal?\n",
    "\n",
    "\n",
    "what can you offer me at Intekglobal?:\n",
    "\n",
    "1: expert resources to connect your different devices and exchange data within those devices\n",
    "2: Connect with us for further information\n",
    "3: We like to provide world class solutions with complete features what you want to impletement in your business!\n",
    "```"
   ]
  },
  {
   "cell_type": "markdown",
   "metadata": {},
   "source": [
    "## New Question-Answer Pair"
   ]
  },
  {
   "cell_type": "markdown",
   "metadata": {},
   "source": [
    "Populate the FAQ data file with a new question answer by calling the method `new_q_a`:"
   ]
  },
  {
   "cell_type": "markdown",
   "metadata": {},
   "source": [
    "```\n",
    "ds.new_q_a()\n",
    "\n",
    "Introduce question:\n",
    "What type of Dialog System is this?\n",
    "\n",
    "Introduce the answer:\n",
    "Is a combination of context question answering system with a faq system\n",
    "```"
   ]
  },
  {
   "cell_type": "markdown",
   "metadata": {},
   "source": [
    "## New Context"
   ]
  },
  {
   "cell_type": "markdown",
   "metadata": {},
   "source": [
    "The systems accept a response as a context. The advantage of having contexts is that many answers can be found in one context. To create a new context, call the `new_context` method:"
   ]
  },
  {
   "cell_type": "markdown",
   "metadata": {},
   "source": [
    "```\n",
    "ds.new_context()\n",
    "\n",
    "Give context a title:\n",
    " IOT\n",
    "Introduce the context:\n",
    "We can provide expert resources to connect your different devices and exchange data within those devices. Further make the data accessible via web tools. Connect with us for further information.   DevOps Our team can help you organization to implement best DevOps practices that can automate the processes between software development and various IT teams, in order that they can build, test, and release software faster and more reliably.\n",
    "```"
   ]
  },
  {
   "cell_type": "markdown",
   "metadata": {},
   "source": [
    "## Docker"
   ]
  },
  {
   "cell_type": "markdown",
   "metadata": {},
   "source": [
    "A container with all the configurations installed can be pulled it with the following instruction:"
   ]
  },
  {
   "cell_type": "markdown",
   "metadata": {},
   "source": [
    "```\n",
    "docker pull ejimenezr/dialog_system\n",
    "```"
   ]
  }
 ],
 "metadata": {
  "kernelspec": {
   "display_name": "Python 3",
   "language": "python",
   "name": "python3"
  }
 },
 "nbformat": 4,
 "nbformat_minor": 4
}
