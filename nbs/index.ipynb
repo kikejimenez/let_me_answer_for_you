{
 "cells": [
  {
   "cell_type": "code",
   "execution_count": null,
   "metadata": {},
   "outputs": [],
   "source": [
    "#hide\n",
    "%load_ext autoreload\n",
    "%autoreload 2"
   ]
  },
  {
   "cell_type": "markdown",
   "metadata": {},
   "source": [
    "# Let Me Answer For You\n",
    "> A Simple and Powerful Deep Learning Dialog System for Question and Answering \n"
   ]
  },
  {
   "cell_type": "markdown",
   "metadata": {},
   "source": [
    "## Pip Install"
   ]
  },
  {
   "cell_type": "markdown",
   "metadata": {},
   "source": [
    "The system can be installed via the `pip` command:\n",
    "```\n",
    "pip install let_me_answer_for_you\n",
    "```"
   ]
  },
  {
   "cell_type": "markdown",
   "metadata": {},
   "source": [
    "## Simple Usage"
   ]
  },
  {
   "cell_type": "markdown",
   "metadata": {},
   "source": [
    "Once the package is installed you can download the file `chatbot.py` of the repo and run: "
   ]
  },
  {
   "cell_type": "markdown",
   "metadata": {},
   "source": [
    "```\n",
    "python chatbot.py\n",
    "```"
   ]
  },
  {
   "cell_type": "markdown",
   "metadata": {},
   "source": [
    "After finishing the installation process,  an interface like the following will appear:"
   ]
  },
  {
   "cell_type": "markdown",
   "metadata": {},
   "source": [
    "<img alt=\"Exporting from nbdev\" width=\"1000\" \n",
    "     caption=\"Example using Contexts\" \n",
    "     src=\"images/spacex_chatbot_2.gif\" />"
   ]
  },
  {
   "cell_type": "markdown",
   "metadata": {},
   "source": [
    "In this example, there was already an answer to the question and a new context was also added. The function `chatbot.py` accepts the *context* and *faq* files as their flags. If no flags for the files are provided, the system reads them (if inexistent, makes them) from the *data* directory at same path-level of `chatbot.py`"
   ]
  },
  {
   "cell_type": "markdown",
   "metadata": {},
   "source": [
    "## Technology"
   ]
  },
  {
   "cell_type": "markdown",
   "metadata": {},
   "source": [
    "The Chatbot is based on two types of question/answer models:  \n",
    "\n",
    "    - Context Question-Answering Machine Learning  \n",
    "    - Knowledge Based Question and Answers \n",
    "\n",
    "This library is built on top of the [deeppavlov library](https://deeppavlov.ai/). It is strongly recommended to consult it for further details of the question/answer models here employed."
   ]
  },
  {
   "cell_type": "markdown",
   "metadata": {},
   "source": [
    "## Structure of the  Package"
   ]
  },
  {
   "cell_type": "markdown",
   "metadata": {},
   "source": [
    "The `chatbot.py` module calls the `ChatBot` class in `let_me_answer_for_you.chatbot`. The `ChatBot` is the child of the `DialogSystem` class. This class lives in `let_me_answer_for_you.chatbot.dialog_system` and is composed of the  following three methods:  \n",
    "    - `question_answering`  \n",
    "    - `new_question_answering`  \n",
    "    - `new_context`"
   ]
  },
  {
   "cell_type": "markdown",
   "metadata": {},
   "source": [
    "The first method retrieves a set of answers for a given question. The second method adds a new question-answer pair to the dataset and the third method adds a new context to the dataset. These are the methods that may be exported as the API calls."
   ]
  },
  {
   "cell_type": "markdown",
   "metadata": {},
   "source": [
    "## Documentation "
   ]
  },
  {
   "cell_type": "markdown",
   "metadata": {},
   "source": [
    "## Requirements"
   ]
  },
  {
   "cell_type": "markdown",
   "metadata": {},
   "source": [
    "The library has been tested in `python 3.7`"
   ]
  },
  {
   "cell_type": "code",
   "execution_count": null,
   "metadata": {},
   "outputs": [],
   "source": []
  },
  {
   "cell_type": "markdown",
   "metadata": {},
   "source": [
    "Install the configuration files by instantiating the `SystemClass` "
   ]
  },
  {
   "cell_type": "markdown",
   "metadata": {},
   "source": [
    "```\n",
    "from let_me_answer_for_you.dialog_system import DialogSystem()\n",
    "\n",
    "ds = DialogSystem( context_data_file=None,\n",
    "        faq_data_file=None,\n",
    "        configs_faq=None,\n",
    "        download_models=True)\n",
    "```"
   ]
  },
  {
   "cell_type": "markdown",
   "metadata": {},
   "source": [
    "If the **context_data_file** or the **faq_data_file** parameters are  `None` , a *data* directory will be created in the directory where the script is running. The data directory will contain the FAQ or the context CSV files"
   ]
  },
  {
   "cell_type": "markdown",
   "metadata": {},
   "source": [
    "## Get Response"
   ]
  },
  {
   "cell_type": "markdown",
   "metadata": {},
   "source": [
    "To get a response to a question call the method `question_answer` in the instance of  `SystemClass`"
   ]
  },
  {
   "cell_type": "markdown",
   "metadata": {},
   "source": [
    "\n",
    "```\n",
    "ds.question_answer()\n",
    "\n",
    "Introduce question:\n",
    "what can you offer me at Intekglobal?\n",
    "\n",
    "\n",
    "what can you offer me at Intekglobal?:\n",
    "\n",
    "1: expert resources to connect your different devices and exchange data within those devices\n",
    "2: Connect with us for further information\n",
    "3: We like to provide world class solutions with complete features what you want to impletement in your business!\n",
    "```"
   ]
  },
  {
   "cell_type": "markdown",
   "metadata": {},
   "source": [
    "## New Question-Answer Pair"
   ]
  },
  {
   "cell_type": "markdown",
   "metadata": {},
   "source": [
    "Populate the FAQ data file with a new question answer by calling the method `new_q_a`:"
   ]
  },
  {
   "cell_type": "markdown",
   "metadata": {},
   "source": [
    "```\n",
    "ds.new_q_a()\n",
    "\n",
    "Introduce question:\n",
    "What type of Dialog System is this?\n",
    "\n",
    "Introduce the answer:\n",
    "Is a combination of context question answering system with a faq system\n",
    "```"
   ]
  },
  {
   "cell_type": "markdown",
   "metadata": {},
   "source": [
    "## New Context"
   ]
  },
  {
   "cell_type": "markdown",
   "metadata": {},
   "source": [
    "The systems accept a response as a context. The advantage of having contexts is that many answers can be found in one context. To create a new context, call the `new_context` method:"
   ]
  },
  {
   "cell_type": "markdown",
   "metadata": {},
   "source": [
    "```\n",
    "ds.new_context()\n",
    "\n",
    "Give context a title:\n",
    " IOT\n",
    "Introduce the context:\n",
    "We can provide expert resources to connect your different devices and exchange data within those devices. Further make the data accessible via web tools. Connect with us for further information.   DevOps Our team can help you organization to implement best DevOps practices that can automate the processes between software development and various IT teams, in order that they can build, test, and release software faster and more reliably.\n",
    "```"
   ]
  },
  {
   "cell_type": "markdown",
   "metadata": {},
   "source": [
    "## Docker"
   ]
  },
  {
   "cell_type": "markdown",
   "metadata": {},
   "source": [
    "A container with all the configurations installed can be pulled it with the following instruction:"
   ]
  },
  {
   "cell_type": "markdown",
   "metadata": {},
   "source": [
    "```\n",
    "docker pull ejimenezr/dialog_system\n",
    "```"
   ]
  }
 ],
 "metadata": {
  "kernelspec": {
   "display_name": "Python 3",
   "language": "python",
   "name": "python3"
  }
 },
 "nbformat": 4,
 "nbformat_minor": 4
}
