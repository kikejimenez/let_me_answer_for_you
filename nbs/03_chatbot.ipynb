{
 "cells": [
  {
   "cell_type": "code",
   "execution_count": null,
   "metadata": {},
   "outputs": [],
   "source": [
    "#hide\n",
    "%load_ext autoreload\n",
    "%autoreload 2"
   ]
  },
  {
   "cell_type": "code",
   "execution_count": null,
   "metadata": {},
   "outputs": [],
   "source": [
    "# default_exp chatbot"
   ]
  },
  {
   "cell_type": "code",
   "execution_count": null,
   "metadata": {},
   "outputs": [],
   "source": [
    "# export\n",
    "\n",
    "from let_me_answer_for_you.dialog_system import DialogSystem\n",
    "import logging\n",
    "from unittest.mock import patch\n",
    "from collections import defaultdict\n",
    "from os import system\n",
    "import pandas as pd \n",
    "\n",
    "logging.basicConfig(\n",
    "    #filename='example.log',\n",
    "    format='%(asctime)s %(levelname)s:%(message)s',\n",
    "    level=logging.ERROR,\n",
    "    datefmt='%I:%M:%S'\n",
    ")\n",
    "\n",
    "logging.debug(\" Debug Log Active\")\n",
    "logging.info(\"Hello! Welcome to our automated dialog system!\")\n",
    "logging.warning(' Warning Log Active')"
   ]
  },
  {
   "cell_type": "markdown",
   "metadata": {},
   "source": [
    "# Text Interface\n",
    "> Implements a command line interface for the Chatbot"
   ]
  },
  {
   "cell_type": "code",
   "execution_count": null,
   "metadata": {},
   "outputs": [],
   "source": [
    "#export\n",
    "class ChatBot(DialogSystem):\n",
    "    ''' ChatBot Inherents all the parameters of 'DialogSystem'\n",
    "    '''\n",
    "    def __init__(\n",
    "        self,\n",
    "        context_data_file=None,\n",
    "        faq_data_file=None,\n",
    "        configs_faq=None,\n",
    "        download_models=True\n",
    "    ):\n",
    "        super().__init__(\n",
    "            context_data_file, faq_data_file, configs_faq, download_models\n",
    "        )\n",
    "        system('clear')\n",
    "\n",
    "    def is_equal(self, string, letter='y'):\n",
    "        '''Open I/O input until response is 'yes' or 'no'\n",
    "        '''\n",
    "\n",
    "        not_letter = 'y' if letter == 'n' else 'n'\n",
    "        res = input(string)[0].lower()\n",
    "        while True:\n",
    "            if res == letter:\n",
    "                return True\n",
    "            elif res == not_letter:\n",
    "                return False\n",
    "            else:\n",
    "                res = input(string)[0].lower()\n",
    "\n",
    "    def question_answer_interface(self):\n",
    "        '''Inputs question and prints responses\n",
    "        '''\n",
    "        question = input('Introduce your question:\\n')\n",
    "        self.question_answer(question)\n",
    "        print(self.formatted_responses)\n",
    "\n",
    "    def new_question_answer_interface(self):\n",
    "        '''Asks for  a new question-answer pair\n",
    "        '''\n",
    "        if self.is_equal('Use exactly the same question[y/n]?', 'n'):\n",
    "            self.question = input('Introduce the new question:\\n')\n",
    "\n",
    "        self.new_question_answer(\n",
    "            question=self.question, answer=input('Introduce the answer:\\n')\n",
    "        )\n",
    "\n",
    "    def new_context_interface(self):\n",
    "        '''Asks for a new context\n",
    "        '''\n",
    "        self.new_context(\n",
    "            topic=input('Introduce the topic (context title):\\n'),\n",
    "            context=input('Introduce the context:\\n'),\n",
    "        )\n",
    "\n",
    "    def are_answers_ok(self):\n",
    "        '''Asks if a better answer will be provided\n",
    "        '''\n",
    "        if self.is_equal('Do you want to provide a better answer[y/n]?', 'n'):\n",
    "            return\n",
    "\n",
    "        elif self.is_equal(\n",
    "                'If the answer will be given as a CONTEXT type \"yes\", ' +\n",
    "                'otherwise type \"no\" [yes = Context, no = FAQ]', 'n'\n",
    "        ):\n",
    "            self.new_question_answer_interface()\n",
    "        else:\n",
    "            self.new_context_interface()\n",
    "\n",
    "        print('\\n The bot has been updated. \\n')\n",
    "\n",
    "    def chatbot(self):\n",
    "        ''' Chatbots logic:\\n\n",
    "             Asks for a question -> Gives responses -> Asks if a better answer will be provided \\n\n",
    "             If not starts again. \\n\n",
    "             If yes -> asks if it is a context or a FAQ -> asks for the response -> starts again. \\n\n",
    "             The chatbot stops at any moment with keys Ctrl+C       \n",
    "        '''\n",
    "        while True:\n",
    "            try:\n",
    "                print(\"\\n Welcome to the Chatbot. To exit press Ctrl+C.\\n\")\n",
    "                self.question_answer_interface()\n",
    "                self.are_answers_ok()\n",
    "            except (KeyboardInterrupt, SystemExit):\n",
    "                print('\\n See you!\\n')\n",
    "                break\n",
    "            finally:\n",
    "                ..."
   ]
  },
  {
   "cell_type": "code",
   "execution_count": null,
   "metadata": {},
   "outputs": [
    {
     "data": {
      "text/markdown": [
       "<h2 id=\"DialogSystem\" class=\"doc_header\"><code>class</code> <code>DialogSystem</code><a href=\"https://github.com/kikejimenez/let_me_answer_for_you/tree/master/let_me_answer_for_you/dialog_system.py#L27\" class=\"source_link\" style=\"float:right\">[source]</a></h2>\n",
       "\n",
       "> <code>DialogSystem</code>(**`context_data_file`**=*`None`*, **`faq_data_file`**=*`None`*, **`configs_faq`**=*`None`*, **`download_models`**=*`True`*)\n",
       "\n",
       "The DialogSystem class implements the main methods\n",
       "defined in settings module. \n",
       "\n",
       "INPUT: \n",
       "\n",
       "- context_data_file: csv file of contexts (default: None)\n",
       "\n",
       "- faq_data_file: csv file of FAQs (default: None)\n",
       "\n",
       "- configs_faq: json config file (default: None)\n",
       "\n",
       "- download_models: Indicates if download configuration files (default: True)\n",
       "\n",
       "\n",
       "If the context or the faq files are not provided, a *data* directory with the missing files,\n",
       "will be created (in the same path where the module is running). \n",
       "\n",
       "When an instance is created, the 'run_shell_installs()' and 'load_and_prepare_data()' routines are called,\n",
       "also the *data* and *qa_models* attributes are created, they store the information of the dataframes\n",
       "and of the models, respectively."
      ],
      "text/plain": [
       "<IPython.core.display.Markdown object>"
      ]
     },
     "metadata": {},
     "output_type": "display_data"
    },
    {
     "data": {
      "text/markdown": [
       "<h4 id=\"ChatBot.are_answers_ok\" class=\"doc_header\"><code>ChatBot.are_answers_ok</code><a href=\"__main__.py#L56\" class=\"source_link\" style=\"float:right\">[source]</a></h4>\n",
       "\n",
       "> <code>ChatBot.are_answers_ok</code>()\n",
       "\n",
       "Asks if a better answer will be provided\n",
       "        "
      ],
      "text/plain": [
       "<IPython.core.display.Markdown object>"
      ]
     },
     "metadata": {},
     "output_type": "display_data"
    },
    {
     "data": {
      "text/markdown": [
       "<h4 id=\"ChatBot.chatbot\" class=\"doc_header\"><code>ChatBot.chatbot</code><a href=\"__main__.py#L72\" class=\"source_link\" style=\"float:right\">[source]</a></h4>\n",
       "\n",
       "> <code>ChatBot.chatbot</code>()\n",
       "\n",
       "Chatbots logic:\n",
       "\n",
       "Asks for a question -> Gives responses -> Asks if a better answer will be provided \n",
       "\n",
       "If not starts again. \n",
       "\n",
       "If yes -> asks if it is a context or a FAQ -> asks for the response -> starts again. \n",
       "\n",
       "The chatbot stops at any moment with keys Ctrl+C       "
      ],
      "text/plain": [
       "<IPython.core.display.Markdown object>"
      ]
     },
     "metadata": {},
     "output_type": "display_data"
    },
    {
     "data": {
      "text/markdown": [
       "<h4 id=\"ChatBot.is_equal\" class=\"doc_header\"><code>ChatBot.is_equal</code><a href=\"__main__.py#L17\" class=\"source_link\" style=\"float:right\">[source]</a></h4>\n",
       "\n",
       "> <code>ChatBot.is_equal</code>(**`string`**, **`letter`**=*`'y'`*)\n",
       "\n",
       "Open I/O input until response is 'yes' or 'no'\n",
       "        "
      ],
      "text/plain": [
       "<IPython.core.display.Markdown object>"
      ]
     },
     "metadata": {},
     "output_type": "display_data"
    },
    {
     "data": {
      "text/markdown": [
       "<h4 id=\"DialogSystem.new_context\" class=\"doc_header\"><code>DialogSystem.new_context</code><a href=\"https://github.com/kikejimenez/let_me_answer_for_you/tree/master/let_me_answer_for_you/dialog_system.py#L98\" class=\"source_link\" style=\"float:right\">[source]</a></h4>\n",
       "\n",
       "> <code>DialogSystem.new_context</code>(**`topic`**, **`context`**)\n",
       "\n",
       "Adds a new context. \n",
       "\n",
       "INPUT:\n",
       "\n",
       "- topic (The title of the context)\n",
       "- context\n",
       "\n",
       "The new context is stored in the csv in the path *self.data['context']['path']*"
      ],
      "text/plain": [
       "<IPython.core.display.Markdown object>"
      ]
     },
     "metadata": {},
     "output_type": "display_data"
    },
    {
     "data": {
      "text/markdown": [
       "<h4 id=\"ChatBot.new_context_interface\" class=\"doc_header\"><code>ChatBot.new_context_interface</code><a href=\"__main__.py#L48\" class=\"source_link\" style=\"float:right\">[source]</a></h4>\n",
       "\n",
       "> <code>ChatBot.new_context_interface</code>()\n",
       "\n",
       "Asks for a new context\n",
       "        "
      ],
      "text/plain": [
       "<IPython.core.display.Markdown object>"
      ]
     },
     "metadata": {},
     "output_type": "display_data"
    },
    {
     "data": {
      "text/markdown": [
       "<h4 id=\"DialogSystem.new_question_answer\" class=\"doc_header\"><code>DialogSystem.new_question_answer</code><a href=\"https://github.com/kikejimenez/let_me_answer_for_you/tree/master/let_me_answer_for_you/dialog_system.py#L80\" class=\"source_link\" style=\"float:right\">[source]</a></h4>\n",
       "\n",
       "> <code>DialogSystem.new_question_answer</code>(**`question`**, **`answer`**)\n",
       "\n",
       "Adds a new question-answer pair.\n",
       "\n",
       "INPUT:\n",
       "\n",
       "- question\n",
       "\n",
       "- answer\n",
       "\n",
       "\n",
       "The new question-answer pair is stored in the csv in the path *self.data['faq']['path']*"
      ],
      "text/plain": [
       "<IPython.core.display.Markdown object>"
      ]
     },
     "metadata": {},
     "output_type": "display_data"
    },
    {
     "data": {
      "text/markdown": [
       "<h4 id=\"ChatBot.new_question_answer_interface\" class=\"doc_header\"><code>ChatBot.new_question_answer_interface</code><a href=\"__main__.py#L38\" class=\"source_link\" style=\"float:right\">[source]</a></h4>\n",
       "\n",
       "> <code>ChatBot.new_question_answer_interface</code>()\n",
       "\n",
       "Asks for  a new question-answer pair\n",
       "        "
      ],
      "text/plain": [
       "<IPython.core.display.Markdown object>"
      ]
     },
     "metadata": {},
     "output_type": "display_data"
    },
    {
     "data": {
      "text/markdown": [
       "<h4 id=\"DialogSystem.question_answer\" class=\"doc_header\"><code>DialogSystem.question_answer</code><a href=\"https://github.com/kikejimenez/let_me_answer_for_you/tree/master/let_me_answer_for_you/dialog_system.py#L63\" class=\"source_link\" style=\"float:right\">[source]</a></h4>\n",
       "\n",
       "> <code>DialogSystem.question_answer</code>(**`question`**)\n",
       "\n",
       "Gets answers to a question. \n",
       "\n",
       "INPUT: \n",
       "\n",
       "- *question* parameter \n",
       "\n",
       "The method creates the following attributes:\n",
       "\n",
       "- 'self.question' -> the question parameter \n",
       "\n",
       "- 'self.response' -> a list of possible responses \n",
       "\n",
       "- 'self.formatted_responses' -> string of the question-answer pair"
      ],
      "text/plain": [
       "<IPython.core.display.Markdown object>"
      ]
     },
     "metadata": {},
     "output_type": "display_data"
    },
    {
     "data": {
      "text/markdown": [
       "<h4 id=\"ChatBot.question_answer_interface\" class=\"doc_header\"><code>ChatBot.question_answer_interface</code><a href=\"__main__.py#L31\" class=\"source_link\" style=\"float:right\">[source]</a></h4>\n",
       "\n",
       "> <code>ChatBot.question_answer_interface</code>()\n",
       "\n",
       "Inputs question and prints responses\n",
       "        "
      ],
      "text/plain": [
       "<IPython.core.display.Markdown object>"
      ]
     },
     "metadata": {},
     "output_type": "display_data"
    }
   ],
   "source": [
    "from nbdev.showdoc import *\n",
    "\n",
    "method_list_f = lambda Foo: [func for func in dir(Foo) if callable(getattr(Foo, func)) and not func.startswith(\"__\")]\n",
    "show_doc(DialogSystem)\n",
    "for method in method_list_f(ChatBot):\n",
    "    show_doc( getattr(ChatBot, method))"
   ]
  },
  {
   "cell_type": "code",
   "execution_count": null,
   "metadata": {},
   "outputs": [
    {
     "name": "stderr",
     "output_type": "stream",
     "text": [
      "[nltk_data] Downloading package punkt to /home/jovyan/nltk_data...\n",
      "[nltk_data]   Package punkt is already up-to-date!\n",
      "[nltk_data] Downloading package stopwords to /home/jovyan/nltk_data...\n",
      "[nltk_data]   Package stopwords is already up-to-date!\n",
      "[nltk_data] Downloading package perluniprops to\n",
      "[nltk_data]     /home/jovyan/nltk_data...\n",
      "[nltk_data]   Package perluniprops is already up-to-date!\n",
      "[nltk_data] Downloading package nonbreaking_prefixes to\n",
      "[nltk_data]     /home/jovyan/nltk_data...\n",
      "[nltk_data]   Package nonbreaking_prefixes is already up-to-date!\n",
      "/opt/conda/lib/python3.7/site-packages/sklearn/linear_model/logistic.py:432: FutureWarning: Default solver will be changed to 'lbfgs' in 0.22. Specify a solver to silence this warning.\n",
      "  FutureWarning)\n"
     ]
    }
   ],
   "source": [
    "cb = ChatBot(\n",
    "    faq_data_file='./faq_example.csv',\n",
    "    context_data_file='./context_example.csv',\n",
    "    download_models=False\n",
    ")"
   ]
  },
  {
   "cell_type": "code",
   "execution_count": null,
   "metadata": {},
   "outputs": [
    {
     "name": "stdout",
     "output_type": "stream",
     "text": [
      "\n",
      " Welcome to the Chatbot. To exit press Ctrl+C.\n",
      "\n"
     ]
    },
    {
     "name": "stdin",
     "output_type": "stream",
     "text": [
      "Introduce your question:\n",
      " what is spacex?\n"
     ]
    },
    {
     "name": "stdout",
     "output_type": "stream",
     "text": [
      "what is spacex?:\n",
      "\n",
      "1: To populate the FAQ data file\n",
      "2: launch vehicles\n",
      "3: the Starlink satellite constellation\n",
      "\n"
     ]
    },
    {
     "name": "stdin",
     "output_type": "stream",
     "text": [
      "Do you want to provide a better answer[y/n]? y\n",
      "If the answer will be given as a CONTEXT type \"yes\", otherwise type \"no\" [yes = Context, no = FAQ] n\n",
      "Use exactly the same question[y/n]? y\n",
      "Introduce the answer:\n",
      " Is spaceflight company\n"
     ]
    },
    {
     "name": "stderr",
     "output_type": "stream",
     "text": [
      "/opt/conda/lib/python3.7/site-packages/sklearn/linear_model/logistic.py:432: FutureWarning: Default solver will be changed to 'lbfgs' in 0.22. Specify a solver to silence this warning.\n",
      "  FutureWarning)\n",
      "/opt/conda/lib/python3.7/site-packages/sklearn/linear_model/logistic.py:469: FutureWarning: Default multi_class will be changed to 'auto' in 0.22. Specify the multi_class option to silence this warning.\n",
      "  \"this warning.\", FutureWarning)\n"
     ]
    },
    {
     "name": "stdout",
     "output_type": "stream",
     "text": [
      "The bot has been updated. \n",
      "\n",
      "\n",
      " Welcome to the Chatbot. To exit press Ctrl+C.\n",
      "\n"
     ]
    },
    {
     "name": "stdin",
     "output_type": "stream",
     "text": [
      "Introduce your question:\n",
      " what is spaceX?\n"
     ]
    },
    {
     "name": "stdout",
     "output_type": "stream",
     "text": [
      "what is spaceX?:\n",
      "\n",
      "1: Is spaceflight company\n",
      "2: several launch vehicles, the Starlink satellite constellation\n",
      "3: developed several launch vehicles\n",
      "\n"
     ]
    },
    {
     "name": "stdin",
     "output_type": "stream",
     "text": [
      "Do you want to provide a better answer[y/n]? y\n",
      "If the answer will be given as a CONTEXT type \"yes\", otherwise type \"no\" [yes = Context, no = FAQ] asdf\n",
      "If the answer will be given as a CONTEXT type \"yes\", otherwise type \"no\" [yes = Context, no = FAQ] adfasdfa\n",
      "If the answer will be given as a CONTEXT type \"yes\", otherwise type \"no\" [yes = Context, no = FAQ] y\n",
      "Introduce the topic (context title):\n",
      " SpaceX's achievements include the first privately funded liquid-propellant rocket to reach orbit (Falcon 1 in 2008),[12] the first private company to successfully launch, orbit, and recover a spacecraft (Dragon in 2010), the first private company to send a spacecraft to the International Space Station (Dragon in 2012),[13] the first propulsive landing for an orbital rocket (Falcon 9 in 2015), the first reuse of an orbital rocket (Falcon 9 in 2017), the first private company to launch an object into orbit around the Sun (Falcon Heavy's payload of a Tesla Roadster in 2018), and the first private company to send astronauts to the International Space Station (Dragon 2 in 2020).[14] SpaceX has flown 20[15] cargo resupply missions to the International Space Station (ISS) under a partnership with NASA,[16] as well as an uncrewed demonstration flight of the human-rated Dragon 2 spacecraft (Crew Demo-1) on March 2, 2019, and the first crewed Dragon 2 flight on May 30, 2020.\n",
      "Introduce the context:\n",
      " What is SpaceX?\n"
     ]
    },
    {
     "name": "stdout",
     "output_type": "stream",
     "text": [
      "The bot has been updated. \n",
      "\n",
      "\n",
      " Welcome to the Chatbot. To exit press Ctrl+C.\n",
      "\n"
     ]
    },
    {
     "name": "stdin",
     "output_type": "stream",
     "text": [
      "Introduce your question:\n",
      " ?\n"
     ]
    },
    {
     "name": "stdout",
     "output_type": "stream",
     "text": [
      "?:\n",
      "\n",
      "1: SpaceX\n",
      "2: This is the Intekglobal Dialog System\n",
      "3: What\n",
      "\n"
     ]
    },
    {
     "name": "stdin",
     "output_type": "stream",
     "text": [
      "Do you want to provide a better answer[y/n]? y\n",
      "If the answer will be given as a CONTEXT type \"yes\", otherwise type \"no\" [yes = Context, no = FAQ] y\n",
      "Introduce the topic (context title):\n",
      " spacex\n",
      "Introduce the context:\n",
      " SpaceX's achievements include the first privately funded liquid-propellant rocket to reach orbit (Falcon 1 in 2008),[12] the first private company to successfully launch, orbit, and recover a spacecraft (Dragon in 2010), the first private company to send a spacecraft to the International Space Station (Dragon in 2012),[13] the first propulsive landing for an orbital rocket (Falcon 9 in 2015), the first reuse of an orbital rocket (Falcon 9 in 2017), the first private company to launch an object into orbit around the Sun (Falcon Heavy's payload of a Tesla Roadster in 2018), and the first private company to send astronauts to the International Space Station (Dragon 2 in 2020).[14] SpaceX has flown 20[15] cargo resupply missions to the International Space Station (ISS) under a partnership with NASA,[16] as well as an uncrewed demonstration flight of the human-rated Dragon 2 spacecraft (Crew Demo-1) on March 2, 2019, and the first crewed Dragon 2 flight on May 30, 2020.[14]\n"
     ]
    },
    {
     "name": "stdout",
     "output_type": "stream",
     "text": [
      "The bot has been updated. \n",
      "\n",
      "\n",
      " Welcome to the Chatbot. To exit press Ctrl+C.\n",
      "\n"
     ]
    },
    {
     "name": "stdin",
     "output_type": "stream",
     "text": [
      "Introduce your question:\n",
      " What is SpaceX?\n"
     ]
    },
    {
     "name": "stdout",
     "output_type": "stream",
     "text": [
      "What is SpaceX?:\n",
      "\n",
      "1: Is spaceflight company\n",
      "2: first privately funded liquid-propellant rocket to reach orbit\n",
      "3: What\n",
      "\n",
      "\n",
      " See you!\n",
      "\n"
     ]
    },
    {
     "name": "stdin",
     "output_type": "stream",
     "text": [
      "Do you want to provide a better answer[y/n]? fghj\n"
     ]
    }
   ],
   "source": [
    "cb.chatbot()"
   ]
  },
  {
   "cell_type": "code",
   "execution_count": null,
   "metadata": {},
   "outputs": [],
   "source": [
    "#hide\n",
    "from shutil import rmtree\n",
    "from os import remove\n",
    "try:\n",
    "    remove('./faq_example.csv')\n",
    "    remove('./context_example.csv')\n",
    "except:\n",
    "    ...\n",
    "rmtree('./data', ignore_errors=True)"
   ]
  },
  {
   "cell_type": "code",
   "execution_count": null,
   "metadata": {},
   "outputs": [],
   "source": []
  },
  {
   "cell_type": "code",
   "execution_count": null,
   "metadata": {},
   "outputs": [],
   "source": []
  }
 ],
 "metadata": {
  "kernelspec": {
   "display_name": "Python 3",
   "language": "python",
   "name": "python3"
  }
 },
 "nbformat": 4,
 "nbformat_minor": 4
}
