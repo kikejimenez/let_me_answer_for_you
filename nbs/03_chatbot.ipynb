{
 "cells": [
  {
   "cell_type": "code",
   "execution_count": null,
   "metadata": {},
   "outputs": [],
   "source": [
    "#hide\n",
    "%load_ext autoreload\n",
    "%autoreload 2"
   ]
  },
  {
   "cell_type": "code",
   "execution_count": null,
   "metadata": {},
   "outputs": [],
   "source": [
    "# default_exp chatbot"
   ]
  },
  {
   "cell_type": "code",
   "execution_count": null,
   "metadata": {},
   "outputs": [],
   "source": [
    "# export\n",
    "\n",
    "from let_me_answer_for_you.dialog_system import DialogSystem\n",
    "import logging\n",
    "from unittest.mock import patch\n",
    "from collections import defaultdict\n",
    "from os import system\n",
    "import pandas as pd \n",
    "\n",
    "logging.basicConfig(\n",
    "    #filename='example.log',\n",
    "    format='%(asctime)s %(levelname)s:%(message)s',\n",
    "    level=logging.ERROR,\n",
    "    datefmt='%I:%M:%S'\n",
    ")\n",
    "\n",
    "logging.debug(\" Debug Log Active\")\n",
    "logging.info(\"Hello! Welcome to our automated dialog system!\")\n",
    "logging.warning(' Warning Log Active')"
   ]
  },
  {
   "cell_type": "markdown",
   "metadata": {},
   "source": [
    "# Chatbot Interface\n",
    "> Implements the question-answering chatbot"
   ]
  },
  {
   "cell_type": "code",
   "execution_count": null,
   "metadata": {},
   "outputs": [],
   "source": [
    "#export\n",
    "class ChatBot(DialogSystem):\n",
    "    ''' This Bots implements the `DialogSystem` class methods as a form of conversation in \n",
    "    a text interface. \\n\n",
    "    \n",
    "    The Bot starts asking to introduce the desired question and returns a set of answers,\n",
    "    After this, asks if a better answer will be provided, if yes, asks for the type of answer\n",
    "    (context or FAQ), if not, starts again.\\n\n",
    "    \n",
    "    The chatbot stops by calling the method chatbot() of an instance of the class.\n",
    "    '''\n",
    "    def __init__(\n",
    "        self,\n",
    "        context_data_file=None,\n",
    "        faq_data_file=None,\n",
    "        configs_faq=None,\n",
    "        download_models=True\n",
    "    ):\n",
    "        super().__init__(\n",
    "            context_data_file, faq_data_file, configs_faq, download_models\n",
    "        )\n",
    "        system('clear')\n",
    "\n",
    "    def is_equal(self, string, letter='y'):\n",
    "        '''Open I/O input until response is 'yes' or 'no'\n",
    "        '''\n",
    "\n",
    "        not_letter = 'y' if letter == 'n' else 'n'\n",
    "        res = input(string)[0].lower()\n",
    "        while True:\n",
    "            if res == letter:\n",
    "                return True\n",
    "            elif res == not_letter:\n",
    "                return False\n",
    "            else:\n",
    "                res = input(string)[0].lower()\n",
    "\n",
    "    def question_answer_interface(self):\n",
    "        '''Gets 'self.formatted_responses' in 'print' function\n",
    "        '''\n",
    "        question = input('Introduce your question:\\n')\n",
    "        self.question_answer(question)\n",
    "        print(self.formatted_responses)\n",
    "\n",
    "    def new_question_answer_interface(self):\n",
    "        '''Asks for  a new question-answer pair\n",
    "        '''\n",
    "        if self.is_equal('Use exactly the same question[y/n]?', 'n'):\n",
    "            self.question = input('Introduce the new question:\\n')\n",
    "\n",
    "        self.new_question_answer(\n",
    "            question=self.question, answer=input('Introduce the answer:\\n')\n",
    "        )\n",
    "\n",
    "    def new_context_interface(self):\n",
    "        '''Asks for a new context\n",
    "        '''\n",
    "        self.new_context(\n",
    "            topic=input('Introduce the topic (context title):\\n'),\n",
    "            context=input('Introduce the context:\\n'),\n",
    "        )\n",
    "\n",
    "    def are_answers_ok(self):\n",
    "        '''Asks if a better answer will be provided\n",
    "        '''\n",
    "        if self.is_equal('Do you want to provide a better answer[y/n]?', 'n'):\n",
    "            return\n",
    "\n",
    "        elif self.is_equal(\n",
    "                'If the answer will be given as a CONTEXT type \"yes\", ' +\n",
    "                'otherwise type \"no\" [yes = Context, no = FAQ]', 'n'\n",
    "        ):\n",
    "            self.new_question_answer_interface()\n",
    "        else:\n",
    "            self.new_context_interface()\n",
    "\n",
    "        print('\\n The bot has been updated. \\n')\n",
    "\n",
    "    def chatbot(self):\n",
    "        ''' Chatbots logic:\\n\n",
    "             Asks for a question -> Gives responses -> Asks if a better answer will be provided \\n\n",
    "             If not starts again. \\n\n",
    "             If yes -> asks if it is a context or a FAQ -> asks for the response and updates the data -> starts again. \\n\n",
    "             The chatbot stops at any moment with the keys Ctrl+C       \n",
    "        '''\n",
    "        while True:\n",
    "            try:\n",
    "                print(\"\\n Welcome to the Chatbot. To exit press Ctrl+C.\\n\")\n",
    "                self.question_answer_interface()\n",
    "                self.are_answers_ok()\n",
    "            except (KeyboardInterrupt, SystemExit):\n",
    "                print('\\n See you!\\n')\n",
    "                break\n",
    "            finally:\n",
    "                ..."
   ]
  },
  {
   "cell_type": "code",
   "execution_count": null,
   "metadata": {},
   "outputs": [
    {
     "data": {
      "text/markdown": [
       "<h2 id=\"ChatBot\" class=\"doc_header\"><code>class</code> <code>ChatBot</code><a href=\"\" class=\"source_link\" style=\"float:right\">[source]</a></h2>\n",
       "\n",
       "> <code>ChatBot</code>(**`context_data_file`**=*`None`*, **`faq_data_file`**=*`None`*, **`configs_faq`**=*`None`*, **`download_models`**=*`True`*) :: [`DialogSystem`](/let_me_answer_for_you/dialog_system#DialogSystem)\n",
       "\n",
       "This Bots implements the [`DialogSystem`](/let_me_answer_for_you/dialog_system#DialogSystem) class methods as a form of conversation in \n",
       "a text interface. \n",
       "\n",
       "\n",
       "The Bot starts asking to introduce the desired question and returns a set of answers,\n",
       "After this, asks if a better answer will be provided, if yes, asks for the type of answer\n",
       "(context or FAQ), if not, starts again.\n",
       "\n",
       "\n",
       "The chatbot stops by calling the method chatbot() of an instance of the class."
      ],
      "text/plain": [
       "<IPython.core.display.Markdown object>"
      ]
     },
     "metadata": {},
     "output_type": "display_data"
    },
    {
     "data": {
      "text/markdown": [
       "<h4 id=\"ChatBot.are_answers_ok\" class=\"doc_header\"><code>ChatBot.are_answers_ok</code><a href=\"__main__.py#L63\" class=\"source_link\" style=\"float:right\">[source]</a></h4>\n",
       "\n",
       "> <code>ChatBot.are_answers_ok</code>()\n",
       "\n",
       "Asks if a better answer will be provided\n",
       "        "
      ],
      "text/plain": [
       "<IPython.core.display.Markdown object>"
      ]
     },
     "metadata": {},
     "output_type": "display_data"
    },
    {
     "data": {
      "text/markdown": [
       "<h4 id=\"ChatBot.chatbot\" class=\"doc_header\"><code>ChatBot.chatbot</code><a href=\"__main__.py#L79\" class=\"source_link\" style=\"float:right\">[source]</a></h4>\n",
       "\n",
       "> <code>ChatBot.chatbot</code>()\n",
       "\n",
       "Chatbots logic:\n",
       "\n",
       "Asks for a question -> Gives responses -> Asks if a better answer will be provided \n",
       "\n",
       "If not starts again. \n",
       "\n",
       "If yes -> asks if it is a context or a FAQ -> asks for the response and updates the data -> starts again. \n",
       "\n",
       "The chatbot stops at any moment with the keys Ctrl+C       "
      ],
      "text/plain": [
       "<IPython.core.display.Markdown object>"
      ]
     },
     "metadata": {},
     "output_type": "display_data"
    },
    {
     "data": {
      "text/markdown": [
       "<h4 id=\"ChatBot.is_equal\" class=\"doc_header\"><code>ChatBot.is_equal</code><a href=\"__main__.py#L24\" class=\"source_link\" style=\"float:right\">[source]</a></h4>\n",
       "\n",
       "> <code>ChatBot.is_equal</code>(**`string`**, **`letter`**=*`'y'`*)\n",
       "\n",
       "Open I/O input until response is 'yes' or 'no'\n",
       "        "
      ],
      "text/plain": [
       "<IPython.core.display.Markdown object>"
      ]
     },
     "metadata": {},
     "output_type": "display_data"
    },
    {
     "data": {
      "text/markdown": [
       "<h4 id=\"DialogSystem.new_context\" class=\"doc_header\"><code>DialogSystem.new_context</code><a href=\"https://github.com/kikejimenez/let_me_answer_for_you/tree/master/let_me_answer_for_you/dialog_system.py#L104\" class=\"source_link\" style=\"float:right\">[source]</a></h4>\n",
       "\n",
       "> <code>DialogSystem.new_context</code>(**`topic`**, **`context`**)\n",
       "\n",
       "Adds a new context. \n",
       "\n",
       "INPUT:\n",
       "\n",
       "- topic (The title of the context)\n",
       "- context\n",
       "\n",
       "The new context is stored in the path *self.data['context']['path']*"
      ],
      "text/plain": [
       "<IPython.core.display.Markdown object>"
      ]
     },
     "metadata": {},
     "output_type": "display_data"
    },
    {
     "data": {
      "text/markdown": [
       "<h4 id=\"ChatBot.new_context_interface\" class=\"doc_header\"><code>ChatBot.new_context_interface</code><a href=\"__main__.py#L55\" class=\"source_link\" style=\"float:right\">[source]</a></h4>\n",
       "\n",
       "> <code>ChatBot.new_context_interface</code>()\n",
       "\n",
       "Asks for a new context\n",
       "        "
      ],
      "text/plain": [
       "<IPython.core.display.Markdown object>"
      ]
     },
     "metadata": {},
     "output_type": "display_data"
    },
    {
     "data": {
      "text/markdown": [
       "<h4 id=\"DialogSystem.new_question_answer\" class=\"doc_header\"><code>DialogSystem.new_question_answer</code><a href=\"https://github.com/kikejimenez/let_me_answer_for_you/tree/master/let_me_answer_for_you/dialog_system.py#L83\" class=\"source_link\" style=\"float:right\">[source]</a></h4>\n",
       "\n",
       "> <code>DialogSystem.new_question_answer</code>(**`question`**, **`answer`**)\n",
       "\n",
       "Adds a new question-answer pair.\n",
       "\n",
       "INPUT:\n",
       "\n",
       "- question\n",
       "\n",
       "- answer\n",
       "\n",
       "\n",
       "The new question-answer pair is stored in the path *self.data['faq']['path']*\n",
       "and the models in *qa_models['faq']* get re-trained by calling the function\n",
       "`deeppavlaov.train_model`"
      ],
      "text/plain": [
       "<IPython.core.display.Markdown object>"
      ]
     },
     "metadata": {},
     "output_type": "display_data"
    },
    {
     "data": {
      "text/markdown": [
       "<h4 id=\"ChatBot.new_question_answer_interface\" class=\"doc_header\"><code>ChatBot.new_question_answer_interface</code><a href=\"__main__.py#L45\" class=\"source_link\" style=\"float:right\">[source]</a></h4>\n",
       "\n",
       "> <code>ChatBot.new_question_answer_interface</code>()\n",
       "\n",
       "Asks for  a new question-answer pair\n",
       "        "
      ],
      "text/plain": [
       "<IPython.core.display.Markdown object>"
      ]
     },
     "metadata": {},
     "output_type": "display_data"
    },
    {
     "data": {
      "text/markdown": [
       "<h4 id=\"DialogSystem.question_answer\" class=\"doc_header\"><code>DialogSystem.question_answer</code><a href=\"https://github.com/kikejimenez/let_me_answer_for_you/tree/master/let_me_answer_for_you/dialog_system.py#L61\" class=\"source_link\" style=\"float:right\">[source]</a></h4>\n",
       "\n",
       "> <code>DialogSystem.question_answer</code>(**`question`**)\n",
       "\n",
       "Gets answers to a question. \n",
       "\n",
       "INPUT: \n",
       "\n",
       "- *question* parameter \n",
       "\n",
       "The method creates the following attributes:\n",
       "\n",
       "- 'self.question' -> the question parameter \n",
       "\n",
       "- 'self.responses' -> a dict of possible responses \n",
       "\n",
       "- 'self.formatted_responses' -> a formatted string of the possible responses\n",
       "\n",
       "This method calls the functions `settings.get_response` and `settings.format_responses`"
      ],
      "text/plain": [
       "<IPython.core.display.Markdown object>"
      ]
     },
     "metadata": {},
     "output_type": "display_data"
    },
    {
     "data": {
      "text/markdown": [
       "<h4 id=\"ChatBot.question_answer_interface\" class=\"doc_header\"><code>ChatBot.question_answer_interface</code><a href=\"__main__.py#L38\" class=\"source_link\" style=\"float:right\">[source]</a></h4>\n",
       "\n",
       "> <code>ChatBot.question_answer_interface</code>()\n",
       "\n",
       "Gets 'self.formatted_responses' in 'print' function\n",
       "        "
      ],
      "text/plain": [
       "<IPython.core.display.Markdown object>"
      ]
     },
     "metadata": {},
     "output_type": "display_data"
    }
   ],
   "source": [
    "from nbdev.showdoc import *\n",
    "\n",
    "method_list_f = lambda Foo: [func for func in dir(Foo) if callable(getattr(Foo, func)) and not func.startswith(\"__\")]\n",
    "show_doc(ChatBot)\n",
    "for method in method_list_f(ChatBot):\n",
    "    show_doc( getattr(ChatBot, method))"
   ]
  },
  {
   "cell_type": "code",
   "execution_count": null,
   "metadata": {},
   "outputs": [],
   "source": [
    "# Test Example"
   ]
  },
  {
   "cell_type": "code",
   "execution_count": null,
   "metadata": {},
   "outputs": [],
   "source": [
    "#test\n",
    "import tempfile\n",
    "from os import path\n",
    "with tempfile.TemporaryDirectory() as tmpdirname:\n",
    "\n",
    "    cb = ChatBot(\n",
    "        faq_data_file=path.join(tmpdirname,'faq_example.csv'),\n",
    "        context_data_file=path.join(tmpdirname,'context_example.csv'),\n",
    "        download_models=False\n",
    "    )\n",
    "    cb.chatbot()"
   ]
  },
  {
   "cell_type": "code",
   "execution_count": null,
   "metadata": {},
   "outputs": [],
   "source": []
  }
 ],
 "metadata": {
  "kernelspec": {
   "display_name": "Python 3",
   "language": "python",
   "name": "python3"
  }
 },
 "nbformat": 4,
 "nbformat_minor": 4
}
