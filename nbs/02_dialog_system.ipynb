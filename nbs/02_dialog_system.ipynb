{
 "cells": [
  {
   "cell_type": "code",
   "execution_count": null,
   "metadata": {},
   "outputs": [
    {
     "name": "stdout",
     "output_type": "stream",
     "text": [
      "The autoreload extension is already loaded. To reload it, use:\n",
      "  %reload_ext autoreload\n"
     ]
    }
   ],
   "source": [
    "#hide\n",
    "%load_ext autoreload\n",
    "%autoreload 2"
   ]
  },
  {
   "cell_type": "code",
   "execution_count": null,
   "metadata": {},
   "outputs": [],
   "source": [
    "# default_exp dialog_system"
   ]
  },
  {
   "cell_type": "code",
   "execution_count": null,
   "metadata": {},
   "outputs": [],
   "source": [
    "# export\n",
    "from let_me_answer_for_you.settings import *\n",
    "import logging\n",
    "from collections import defaultdict\n",
    "\n",
    "logging.basicConfig(\n",
    "    #filename='example.log',\n",
    "    format='%(asctime)s %(levelname)s:%(message)s',\n",
    "    level=logging.ERROR,\n",
    "    datefmt='%I:%M:%S'\n",
    ")\n",
    "\n",
    "logging.debug(\" Debug Log Active\")\n",
    "logging.info(\"Hello! Welcome to our automated dialog system!\")\n",
    "logging.warning(' Warning Log Active')\n",
    "#logging.error(' Error Log Active ')"
   ]
  },
  {
   "cell_type": "code",
   "execution_count": null,
   "metadata": {},
   "outputs": [],
   "source": [
    "#export\n",
    "class DialogSystem:\n",
    "    def __init__(\n",
    "        self,\n",
    "        context_data_file=None,\n",
    "        faq_data_file=None,\n",
    "        configs_faq=None,\n",
    "        download_models=True\n",
    "    ):\n",
    "        run_shell_installs()\n",
    "        self.data = {'context': defaultdict(str), 'faq': defaultdict(str)}\n",
    "        self.download = download_models\n",
    "        load_and_prepare_data(\n",
    "            context_data_file=context_data_file,\n",
    "            faq_data_file=faq_data_file,\n",
    "            configs_faq=configs_faq,\n",
    "            data=self.data\n",
    "        )\n",
    "        self.qa_models = load_qa_models(\n",
    "            config_tfidf=self.data['faq']['config'], download=self.download\n",
    "        )\n",
    "\n",
    "    def question_answer(self):\n",
    "        ''' Gets answer from a question\n",
    "        '''\n",
    "        question, responses = question_response(\n",
    "            data=self.data,\n",
    "            qa_models=self.qa_models,\n",
    "            num_returned_values_per_squad_model=1\n",
    "        )\n",
    "        print('\\n\\n' + responses)\n",
    "\n",
    "    def new_q_a(self):\n",
    "        '''Stores new question answer\n",
    "        '''\n",
    "        new_question_answer(self.data, self.qa_models)\n",
    "\n",
    "    def new_context(self):\n",
    "        '''Stores a new context\n",
    "        '''\n",
    "        new_context(self.data)"
   ]
  },
  {
   "cell_type": "code",
   "execution_count": null,
   "metadata": {},
   "outputs": [
    {
     "name": "stderr",
     "output_type": "stream",
     "text": [
      "/opt/conda/lib/python3.7/site-packages/sklearn/linear_model/logistic.py:432: FutureWarning: Default solver will be changed to 'lbfgs' in 0.22. Specify a solver to silence this warning.\n",
      "  FutureWarning)\n",
      "/opt/conda/lib/python3.7/site-packages/sklearn/linear_model/logistic.py:469: FutureWarning: Default multi_class will be changed to 'auto' in 0.22. Specify the multi_class option to silence this warning.\n",
      "  \"this warning.\", FutureWarning)\n"
     ]
    }
   ],
   "source": [
    "ds =  DialogSystem(download_models=False)"
   ]
  },
  {
   "cell_type": "code",
   "execution_count": null,
   "metadata": {},
   "outputs": [
    {
     "name": "stdin",
     "output_type": "stream",
     "text": [
      "Introduce question:\n",
      " What day is today?\n",
      "Introduce the answer:\n",
      " Today is the day!\n"
     ]
    },
    {
     "name": "stderr",
     "output_type": "stream",
     "text": [
      "/opt/conda/lib/python3.7/site-packages/sklearn/linear_model/logistic.py:432: FutureWarning: Default solver will be changed to 'lbfgs' in 0.22. Specify a solver to silence this warning.\n",
      "  FutureWarning)\n",
      "/opt/conda/lib/python3.7/site-packages/sklearn/linear_model/logistic.py:469: FutureWarning: Default multi_class will be changed to 'auto' in 0.22. Specify the multi_class option to silence this warning.\n",
      "  \"this warning.\", FutureWarning)\n"
     ]
    }
   ],
   "source": [
    "ds.new_q_a()"
   ]
  },
  {
   "cell_type": "code",
   "execution_count": null,
   "metadata": {},
   "outputs": [
    {
     "name": "stdin",
     "output_type": "stream",
     "text": [
      "Introduce question:\n",
      " What day is today?\n"
     ]
    },
    {
     "name": "stdout",
     "output_type": "stream",
     "text": [
      "\n",
      "\n",
      "What day is today?:\n",
      "\n",
      "0: Today is the day!\n",
      "\n"
     ]
    }
   ],
   "source": [
    "ds.question_answer()"
   ]
  },
  {
   "cell_type": "code",
   "execution_count": null,
   "metadata": {},
   "outputs": [
    {
     "name": "stdin",
     "output_type": "stream",
     "text": [
      "Give context a title:\n",
      " IOT\n",
      "Introduce the context:\n",
      " Internet of Things. We can provide expert resources to connect your different devices and exchange data within those devices. Further make the data accessible via web tools. Connect with us for further information.   DevOps Our team can help you organization to implement best DevOps practices that can automate the processes between software development and various IT teams, in order that they can build, test, and release software faster and more reliably.\n"
     ]
    }
   ],
   "source": [
    "ds.new_context()"
   ]
  },
  {
   "cell_type": "code",
   "execution_count": null,
   "metadata": {},
   "outputs": [
    {
     "name": "stdin",
     "output_type": "stream",
     "text": [
      "Introduce question:\n",
      " What can Intekglobal do for me?\n"
     ]
    },
    {
     "name": "stdout",
     "output_type": "stream",
     "text": [
      "\n",
      "\n",
      "What can Intekglobal do for me?:\n",
      "\n",
      "0: This is the Intekglobal Dialog System\n",
      "1: Connect with us for further information\n",
      "2: help you organization to implement best DevOps practices\n",
      "\n"
     ]
    }
   ],
   "source": [
    "ds.question_answer()\n"
   ]
  },
  {
   "cell_type": "code",
   "execution_count": null,
   "metadata": {},
   "outputs": [],
   "source": []
  }
 ],
 "metadata": {
  "kernelspec": {
   "display_name": "Python 3",
   "language": "python",
   "name": "python3"
  }
 },
 "nbformat": 4,
 "nbformat_minor": 4
}
