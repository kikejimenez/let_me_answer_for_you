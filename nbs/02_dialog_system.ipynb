{
 "cells": [
  {
   "cell_type": "code",
   "execution_count": null,
   "metadata": {},
   "outputs": [],
   "source": [
    "#hide\n",
    "%load_ext autoreload\n",
    "%autoreload 2"
   ]
  },
  {
   "cell_type": "code",
   "execution_count": null,
   "metadata": {},
   "outputs": [],
   "source": [
    "# default_exp dialog_system"
   ]
  },
  {
   "cell_type": "code",
   "execution_count": null,
   "metadata": {},
   "outputs": [],
   "source": [
    "# export\n",
    "from let_me_answer_for_you.settings import *\n",
    "from deeppavlov import train_model\n",
    "import logging\n",
    "from unittest.mock import patch\n",
    "from collections import defaultdict\n",
    "\n",
    "import pandas as pd \n",
    "\n",
    "logging.basicConfig(\n",
    "    #filename='example.log',\n",
    "    format='%(asctime)s %(levelname)s:%(message)s',\n",
    "    level=logging.ERROR,\n",
    "    datefmt='%I:%M:%S'\n",
    ")\n",
    "\n",
    "logging.debug(\" Debug Log Active\")\n",
    "logging.info(\"Hello! Welcome to our automated dialog system!\")\n",
    "logging.warning(' Warning Log Active')\n",
    "#logging.error(' Error Log Active ')"
   ]
  },
  {
   "cell_type": "markdown",
   "metadata": {},
   "source": [
    "# Dialog System Class\n",
    "> Class that implements the `question_response`, `new_question_answer` and `new_context` methods"
   ]
  },
  {
   "cell_type": "code",
   "execution_count": null,
   "metadata": {},
   "outputs": [],
   "source": [
    "#export\n",
    "class DialogSystem:\n",
    "    ''' The DialogSystem class implements the main methods\n",
    "    defined in settings module. \\n\n",
    "    INPUT: \\n\n",
    "    - context_data_file: csv file of contexts (default: None)\\n\n",
    "    - faq_data_file: csv file of FAQs (default: None)\\n\n",
    "    - configs_faq: json config file (default: None)\\n\n",
    "    - download_models: Indicates if download configuration files (default: True)\\n\n",
    "    \n",
    "    If the context or the faq files are not provided, a *data* directory with the missing files,\n",
    "    will be created (in the same path where the module is running). \\n\n",
    "    When an instance is created, the 'run_shell_installs()' and 'load_and_prepare_data()' routines are called,\n",
    "    also the *data* and *qa_models* attributes are created, they store the information of the dataframes\n",
    "    and of the models, respectively.\n",
    "    '''\n",
    "    def __init__(\n",
    "        self,\n",
    "        context_data_file=None,\n",
    "        faq_data_file=None,\n",
    "        configs_faq=None,\n",
    "        download_models=True\n",
    "    ):\n",
    "        ''' The init of the class  '''\n",
    "        run_shell_installs()\n",
    "        self.data = {'context': defaultdict(str), 'faq': defaultdict(str)}\n",
    "        self.download = download_models\n",
    "        load_and_prepare_data(\n",
    "            context_data_file=context_data_file,\n",
    "            faq_data_file=faq_data_file,\n",
    "            configs_faq=configs_faq,\n",
    "            data=self.data\n",
    "        )\n",
    "        self.qa_models = load_qa_models(\n",
    "            config_tfidf=self.data['faq']['config'], download=self.download\n",
    "        )\n",
    "\n",
    "    def question_answer(self, question):\n",
    "        ''' Gets answers to a question. \\n\n",
    "        INPUT: \\n\n",
    "        - *question* parameter \\n\n",
    "        The method creates the following attributes:\\n\n",
    "        - 'self.question' -> the question parameter \\n\n",
    "        - 'self.response' -> a list of possible responses \\n\n",
    "        - 'self.formatted_responses' -> string of the question-answer pair\n",
    "        '''\n",
    "        self.question = question\n",
    "        self.responses, self.formatted_responses = get_responses(\n",
    "            self.data['context']['df'],\n",
    "            question,\n",
    "            self.qa_models,\n",
    "            nb_squad_results=1\n",
    "        )\n",
    "\n",
    "    def new_question_answer(self, question, answer):\n",
    "        '''Adds a new question-answer pair.\\n\n",
    "        INPUT:\\n\n",
    "        - question\\n\n",
    "        - answer\\n        \n",
    "        \n",
    "        The new question-answer pair is stored in the csv in the path *self.data['faq']['path']*\n",
    "        '''\n",
    "        _faq = self.data['faq']\n",
    "        new_faq = pd.DataFrame({'Question': [question], 'Answer': [answer]})\n",
    "        _faq['df'] = _faq['df'].append(new_faq)\n",
    "        _faq['df'].to_csv(_faq['path'], index=False)\n",
    "        self.qa_models['faq']['tfidf'] = train_model(\n",
    "            _faq['config'], download=False\n",
    "        )\n",
    "        self.question, self.answer = question, answer\n",
    "        logging.info('FAQ dataset and model updated..')\n",
    "\n",
    "    def new_context(self, topic, context):\n",
    "        ''' Adds a new context. \\n\n",
    "        INPUT:\\n\n",
    "        - topic (The title of the context)\n",
    "        - context\n",
    "        \n",
    "        The new context is stored in the csv in the path *self.data['context']['path']*\n",
    "        '''\n",
    "        _ctx = self.data['context']\n",
    "        new_context = pd.DataFrame({'topic': [topic], 'context': [context]})\n",
    "        _ctx['df'] = _ctx['df'].append(new_context)\n",
    "        _ctx['df'].to_csv(_ctx['path'], index=False)\n",
    "        self.topic, self.context = topic, context\n",
    "        logging.info('contexts dataset updated..')"
   ]
  },
  {
   "cell_type": "code",
   "execution_count": null,
   "metadata": {},
   "outputs": [
    {
     "data": {
      "text/markdown": [
       "<h2 id=\"DialogSystem\" class=\"doc_header\"><code>class</code> <code>DialogSystem</code><a href=\"\" class=\"source_link\" style=\"float:right\">[source]</a></h2>\n",
       "\n",
       "> <code>DialogSystem</code>(**`context_data_file`**=*`None`*, **`faq_data_file`**=*`None`*, **`configs_faq`**=*`None`*, **`download_models`**=*`True`*)\n",
       "\n",
       "The DialogSystem class implements the main methods\n",
       "defined in settings module. \n",
       "\n",
       "INPUT: \n",
       "\n",
       "- context_data_file: csv file of contexts (default: None)\n",
       "\n",
       "- faq_data_file: csv file of FAQs (default: None)\n",
       "\n",
       "- configs_faq: json config file (default: None)\n",
       "\n",
       "- download_models: Indicates if download configuration files (default: True)\n",
       "\n",
       "\n",
       "If the context or the faq files are not provided, a *data* directory with the missing files,\n",
       "will be created (in the same path where the module is running). \n",
       "\n",
       "When an instance is created, the 'run_shell_installs()' and 'load_and_prepare_data()' routines are called,\n",
       "also the *data* and *qa_models* attributes are created, they store the information of the dataframes\n",
       "and of the models, respectively."
      ],
      "text/plain": [
       "<IPython.core.display.Markdown object>"
      ]
     },
     "metadata": {},
     "output_type": "display_data"
    },
    {
     "data": {
      "text/markdown": [
       "<h4 id=\"DialogSystem.question_answer\" class=\"doc_header\"><code>DialogSystem.question_answer</code><a href=\"__main__.py#L38\" class=\"source_link\" style=\"float:right\">[source]</a></h4>\n",
       "\n",
       "> <code>DialogSystem.question_answer</code>(**`question`**)\n",
       "\n",
       "Gets answers to a question. \n",
       "\n",
       "INPUT: \n",
       "\n",
       "- *question* parameter \n",
       "\n",
       "The method creates the following attributes:\n",
       "\n",
       "- 'self.question' -> the question parameter \n",
       "\n",
       "- 'self.response' -> a list of possible responses \n",
       "\n",
       "- 'self.formatted_responses' -> string of the question-answer pair"
      ],
      "text/plain": [
       "<IPython.core.display.Markdown object>"
      ]
     },
     "metadata": {},
     "output_type": "display_data"
    },
    {
     "data": {
      "text/markdown": [
       "<h4 id=\"DialogSystem.new_question_answer\" class=\"doc_header\"><code>DialogSystem.new_question_answer</code><a href=\"__main__.py#L55\" class=\"source_link\" style=\"float:right\">[source]</a></h4>\n",
       "\n",
       "> <code>DialogSystem.new_question_answer</code>(**`question`**, **`answer`**)\n",
       "\n",
       "Adds a new question-answer pair.\n",
       "\n",
       "INPUT:\n",
       "\n",
       "- question\n",
       "\n",
       "- answer\n",
       "\n",
       "\n",
       "The new question-answer pair is stored in the csv in the path *self.data['faq']['path']*"
      ],
      "text/plain": [
       "<IPython.core.display.Markdown object>"
      ]
     },
     "metadata": {},
     "output_type": "display_data"
    },
    {
     "data": {
      "text/markdown": [
       "<h4 id=\"DialogSystem.new_context\" class=\"doc_header\"><code>DialogSystem.new_context</code><a href=\"__main__.py#L73\" class=\"source_link\" style=\"float:right\">[source]</a></h4>\n",
       "\n",
       "> <code>DialogSystem.new_context</code>(**`topic`**, **`context`**)\n",
       "\n",
       "Adds a new context. \n",
       "\n",
       "INPUT:\n",
       "\n",
       "- topic (The title of the context)\n",
       "- context\n",
       "\n",
       "The new context is stored in the csv in the path *self.data['context']['path']*"
      ],
      "text/plain": [
       "<IPython.core.display.Markdown object>"
      ]
     },
     "metadata": {},
     "output_type": "display_data"
    }
   ],
   "source": [
    "from nbdev.showdoc import *\n",
    "show_doc(DialogSystem)\n",
    "show_doc(DialogSystem.question_answer)\n",
    "show_doc(DialogSystem.new_question_answer)\n",
    "show_doc(DialogSystem.new_context)"
   ]
  },
  {
   "cell_type": "markdown",
   "metadata": {},
   "source": [
    "## Test Examples "
   ]
  },
  {
   "cell_type": "code",
   "execution_count": null,
   "metadata": {},
   "outputs": [
    {
     "name": "stderr",
     "output_type": "stream",
     "text": [
      "[nltk_data] Downloading package punkt to /home/jovyan/nltk_data...\n",
      "[nltk_data]   Package punkt is already up-to-date!\n",
      "[nltk_data] Downloading package stopwords to /home/jovyan/nltk_data...\n",
      "[nltk_data]   Package stopwords is already up-to-date!\n",
      "[nltk_data] Downloading package perluniprops to\n",
      "[nltk_data]     /home/jovyan/nltk_data...\n",
      "[nltk_data]   Package perluniprops is already up-to-date!\n",
      "[nltk_data] Downloading package nonbreaking_prefixes to\n",
      "[nltk_data]     /home/jovyan/nltk_data...\n",
      "[nltk_data]   Package nonbreaking_prefixes is already up-to-date!\n",
      "/opt/conda/lib/python3.7/site-packages/sklearn/linear_model/logistic.py:432: FutureWarning: Default solver will be changed to 'lbfgs' in 0.22. Specify a solver to silence this warning.\n",
      "  FutureWarning)\n"
     ]
    }
   ],
   "source": [
    "ds = DialogSystem(\n",
    "    faq_data_file='./faq_example.csv',\n",
    "    context_data_file='./context_example.csv',\n",
    "    download_models=False\n",
    ")"
   ]
  },
  {
   "cell_type": "code",
   "execution_count": null,
   "metadata": {},
   "outputs": [],
   "source": [
    "ds.question_answer(question = 'What is Intekglobal?')\n",
    "\n",
    "assert ds.question == 'What is Intekglobal?'\n",
    "assert ds.responses == ['This is the Intekglobal Dialog System']\n",
    "assert ds.formatted_responses == 'What is Intekglobal?:\\n\\n1: This is the Intekglobal Dialog System\\n'"
   ]
  },
  {
   "cell_type": "code",
   "execution_count": null,
   "metadata": {},
   "outputs": [
    {
     "name": "stderr",
     "output_type": "stream",
     "text": [
      "/opt/conda/lib/python3.7/site-packages/sklearn/linear_model/logistic.py:432: FutureWarning: Default solver will be changed to 'lbfgs' in 0.22. Specify a solver to silence this warning.\n",
      "  FutureWarning)\n",
      "/opt/conda/lib/python3.7/site-packages/sklearn/linear_model/logistic.py:469: FutureWarning: Default multi_class will be changed to 'auto' in 0.22. Specify the multi_class option to silence this warning.\n",
      "  \"this warning.\", FutureWarning)\n"
     ]
    }
   ],
   "source": [
    "ds.new_question_answer(question='What day is today?', answer='Today is the day!')\n",
    "ds.question_answer(question='What day is today?')\n",
    "\n",
    "assert ds.formatted_responses == 'What day is today?:\\n\\n1: Today is the day!\\n'"
   ]
  },
  {
   "cell_type": "code",
   "execution_count": null,
   "metadata": {},
   "outputs": [],
   "source": [
    "context = '''Space Exploration Technologies Corp., trading as SpaceX,\n",
    "is an American aerospace manufacturer and space transportation services company headquartered\n",
    "in Hawthorne, California. It was founded in 2002 by Elon Musk with the goal of reducing \n",
    "space transportation costs to enable the colonization of Mars. SpaceX has developed several launch \n",
    "vehicles,the Starlink satellite constellation, and the Dragon spacecraft.\n",
    "'''\n",
    "ds.new_context(topic='SpaceX', context=context)\n",
    "ds.question_answer(question='What are SpaceX initials stand for?')\n",
    "\n",
    "assert ds.responses == [\n",
    "    'Space Exploration Technologies Corp.',\n",
    "    'Space Exploration Technologies Corp.', 'Today is the day!'\n",
    "]"
   ]
  },
  {
   "cell_type": "code",
   "execution_count": null,
   "metadata": {},
   "outputs": [],
   "source": [
    "#hide\n",
    "from shutil import rmtree\n",
    "from os import remove\n",
    "remove('./faq_example.csv')\n",
    "remove('./context_example.csv')\n",
    "rmtree('./data', ignore_errors=True)"
   ]
  }
 ],
 "metadata": {
  "kernelspec": {
   "display_name": "Python 3",
   "language": "python",
   "name": "python3"
  }
 },
 "nbformat": 4,
 "nbformat_minor": 4
}
