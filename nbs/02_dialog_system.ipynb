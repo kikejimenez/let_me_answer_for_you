{
 "cells": [
  {
   "cell_type": "code",
   "execution_count": null,
   "metadata": {},
   "outputs": [],
   "source": [
    "#hide\n",
    "%load_ext autoreload\n",
    "%autoreload 2"
   ]
  },
  {
   "cell_type": "code",
   "execution_count": null,
   "metadata": {},
   "outputs": [],
   "source": [
    "# default_exp dialog_system"
   ]
  },
  {
   "cell_type": "code",
   "execution_count": null,
   "metadata": {},
   "outputs": [],
   "source": [
    "# export\n",
    "from let_me_answer_for_you import settings\n",
    "import deeppavlov\n",
    "import logging\n",
    "from unittest.mock import patch\n",
    "from collections import defaultdict\n",
    "\n",
    "import pandas as pd \n",
    "\n",
    "logging.basicConfig(\n",
    "    #filename='example.log',\n",
    "    format='%(asctime)s %(levelname)s:%(message)s',\n",
    "    level=logging.ERROR,\n",
    "    datefmt='%I:%M:%S'\n",
    ")\n",
    "\n",
    "logging.debug(\" Debug Log Active\")\n",
    "logging.info(\"Hello! Welcome to our automated dialog system!\")\n",
    "logging.warning(' Warning Log Active')"
   ]
  },
  {
   "cell_type": "markdown",
   "metadata": {},
   "source": [
    "# Dialog System \n",
    "> Implements the `question_response`, `new_question_answer` and `new_context` methods"
   ]
  },
  {
   "cell_type": "code",
   "execution_count": null,
   "metadata": {},
   "outputs": [],
   "source": [
    "#export\n",
    "class DialogSystem:\n",
    "    ''' The DialogSystem class implements the main methods\n",
    "    defined in the settings module. \\n\n",
    "    INPUT: \\n\n",
    "    - context_data_file: csv file of contexts (default: None)\\n\n",
    "    - faq_data_file: csv file of FAQs (default: None)\\n\n",
    "    - configs_faq: json config file (default: None)\\n\n",
    "    - download_models: Indicates if download configuration files (default: True)\\n\n",
    "    \n",
    "    If the context or the faq files are not provided, a *data* directory with the missing files,\n",
    "    will be created (in the same path where the module is running). \\n\n",
    "    When an instance is created, the 'run_shell_installs', 'load_and_prepare_data'\n",
    "    and 'load_qa_models' of the settings module  are called. Also the *data* and *qa_models* \n",
    "    attributes are created, they store the dataframes and models information, respectively.\\n\n",
    "    \n",
    "    \n",
    "    If the dataframes are provided they must have the following columns:    \n",
    "    \n",
    "     1. context dataframe columns: 'topic', 'context'\n",
    "     2. faq dataframe columns: 'Question, 'Answer'\n",
    "    '''\n",
    "    def __init__(\n",
    "        self,\n",
    "        context_data_file=None,\n",
    "        faq_data_file=None,\n",
    "        configs_faq=None,\n",
    "        download_models=True\n",
    "    ):\n",
    "        settings.run_shell_installs()\n",
    "        self.data = {'context': defaultdict(str), 'faq': defaultdict(str)}\n",
    "        self.download = download_models\n",
    "        settings.load_and_prepare_data(\n",
    "            context_data_file=context_data_file,\n",
    "            faq_data_file=faq_data_file,\n",
    "            configs_faq=configs_faq,\n",
    "            data=self.data\n",
    "        )\n",
    "        self.qa_models = settings.load_qa_models(\n",
    "            config_tfidf=self.data['faq']['config'], download=self.download\n",
    "        )\n",
    "\n",
    "    def question_answer(self, question):\n",
    "        ''' Gets answers to a question. \\n\n",
    "        INPUT: \\n\n",
    "        - *question* parameter \\n\n",
    "        The method creates the following attributes:\\n\n",
    "        - 'self.question' -> the input parameter \\n\n",
    "        - 'self.responses' -> a dict of possible responses \\n\n",
    "        - 'self.formatted_responses' -> a formatted string of the possible responses\n",
    "        \n",
    "        This method calls the functions `settings.get_response` and `settings.format_responses`\n",
    "        '''\n",
    "\n",
    "        self.question, self.responses = settings.get_responses(\n",
    "            self.data['context']['df'],\n",
    "            question,\n",
    "            self.qa_models,\n",
    "            nb_squad_results=1\n",
    "        )\n",
    "        self.flatten_responses, self.formatted_responses = settings.format_responses(\n",
    "            self.responses\n",
    "        )\n",
    "\n",
    "    def new_question_answer(self, question, answer):\n",
    "        '''Adds a new question-answer pair.\\n\n",
    "        INPUT:\\n\n",
    "        - question\\n\n",
    "        - answer\\n        \n",
    "        \n",
    "        The new question-answer pair is stored in the path *self.data['faq']['path']*\n",
    "        and the models in *qa_models['faq']* get re-trained by calling the function\n",
    "        `deeppavlaov.train_model` \n",
    "        \n",
    "        '''\n",
    "        _faq = self.data['faq']\n",
    "        new_faq = pd.DataFrame({'Question': [question], 'Answer': [answer]})\n",
    "        _faq['df'] = _faq['df'].append(new_faq)\n",
    "        _faq['df'].to_csv(_faq['path'], index=False)\n",
    "        self.qa_models['faq']['tfidf'] = deeppavlov.train_model(\n",
    "            _faq['config'], download=False\n",
    "        )\n",
    "        self.question, self.answer = question, answer\n",
    "        logging.info('FAQ dataset and model updated..')\n",
    "\n",
    "    def new_context(self, topic, context):\n",
    "        ''' Adds a new context. \\n\n",
    "        INPUT:\\n\n",
    "        - topic (The title of the context)\n",
    "        - context\n",
    "        \n",
    "        The new context is stored in the path *self.data['context']['path']*\n",
    "        '''\n",
    "        _ctx = self.data['context']\n",
    "        new_context = pd.DataFrame({'topic': [topic], 'context': [context]})\n",
    "        _ctx['df'] = _ctx['df'].append(new_context)\n",
    "        _ctx['df'].to_csv(_ctx['path'], index=False)\n",
    "        self.topic, self.context = topic, context\n",
    "        logging.info('contexts dataset updated..')"
   ]
  },
  {
   "cell_type": "code",
   "execution_count": null,
   "metadata": {},
   "outputs": [
    {
     "data": {
      "text/markdown": [
       "<h2 id=\"DialogSystem\" class=\"doc_header\"><code>class</code> <code>DialogSystem</code><a href=\"\" class=\"source_link\" style=\"float:right\">[source]</a></h2>\n",
       "\n",
       "> <code>DialogSystem</code>(**`context_data_file`**=*`None`*, **`faq_data_file`**=*`None`*, **`configs_faq`**=*`None`*, **`download_models`**=*`True`*)\n",
       "\n",
       "The DialogSystem class implements the main methods\n",
       "defined in the settings module. \n",
       "\n",
       "INPUT: \n",
       "\n",
       "- context_data_file: csv file of contexts (default: None)\n",
       "\n",
       "- faq_data_file: csv file of FAQs (default: None)\n",
       "\n",
       "- configs_faq: json config file (default: None)\n",
       "\n",
       "- download_models: Indicates if download configuration files (default: True)\n",
       "\n",
       "\n",
       "If the context or the faq files are not provided, a *data* directory with the missing files,\n",
       "will be created (in the same path where the module is running). \n",
       "\n",
       "When an instance is created, the 'run_shell_installs', 'load_and_prepare_data'\n",
       "and 'load_qa_models' of the settings module  are called. Also the *data* and *qa_models* \n",
       "attributes are created, they store the dataframes and models information, respectively."
      ],
      "text/plain": [
       "<IPython.core.display.Markdown object>"
      ]
     },
     "metadata": {},
     "output_type": "display_data"
    },
    {
     "data": {
      "text/markdown": [
       "<h4 id=\"DialogSystem.new_context\" class=\"doc_header\"><code>DialogSystem.new_context</code><a href=\"__main__.py#L80\" class=\"source_link\" style=\"float:right\">[source]</a></h4>\n",
       "\n",
       "> <code>DialogSystem.new_context</code>(**`topic`**, **`context`**)\n",
       "\n",
       "Adds a new context. \n",
       "\n",
       "INPUT:\n",
       "\n",
       "- topic (The title of the context)\n",
       "- context\n",
       "\n",
       "The new context is stored in the path *self.data['context']['path']*"
      ],
      "text/plain": [
       "<IPython.core.display.Markdown object>"
      ]
     },
     "metadata": {},
     "output_type": "display_data"
    },
    {
     "data": {
      "text/markdown": [
       "<h4 id=\"DialogSystem.new_question_answer\" class=\"doc_header\"><code>DialogSystem.new_question_answer</code><a href=\"__main__.py#L59\" class=\"source_link\" style=\"float:right\">[source]</a></h4>\n",
       "\n",
       "> <code>DialogSystem.new_question_answer</code>(**`question`**, **`answer`**)\n",
       "\n",
       "Adds a new question-answer pair.\n",
       "\n",
       "INPUT:\n",
       "\n",
       "- question\n",
       "\n",
       "- answer\n",
       "\n",
       "\n",
       "The new question-answer pair is stored in the path *self.data['faq']['path']*\n",
       "and the models in *qa_models['faq']* get re-trained by calling the function\n",
       "`deeppavlaov.train_model` "
      ],
      "text/plain": [
       "<IPython.core.display.Markdown object>"
      ]
     },
     "metadata": {},
     "output_type": "display_data"
    },
    {
     "data": {
      "text/markdown": [
       "<h4 id=\"DialogSystem.question_answer\" class=\"doc_header\"><code>DialogSystem.question_answer</code><a href=\"__main__.py#L37\" class=\"source_link\" style=\"float:right\">[source]</a></h4>\n",
       "\n",
       "> <code>DialogSystem.question_answer</code>(**`question`**)\n",
       "\n",
       "Gets answers to a question. \n",
       "\n",
       "INPUT: \n",
       "\n",
       "- *question* parameter \n",
       "\n",
       "The method creates the following attributes:\n",
       "\n",
       "- 'self.question' -> the input parameter \n",
       "\n",
       "- 'self.responses' -> a dict of possible responses \n",
       "\n",
       "- 'self.formatted_responses' -> a formatted string of the possible responses\n",
       "\n",
       "This method calls the functions `settings.get_response` and `settings.format_responses`"
      ],
      "text/plain": [
       "<IPython.core.display.Markdown object>"
      ]
     },
     "metadata": {},
     "output_type": "display_data"
    }
   ],
   "source": [
    "from nbdev.showdoc import *\n",
    "\n",
    "method_list_f = lambda Foo: [func for func in dir(Foo) if callable(getattr(Foo, func)) and not func.startswith(\"__\")]\n",
    "show_doc(DialogSystem)\n",
    "for method in method_list_f(DialogSystem):\n",
    "    show_doc( getattr(DialogSystem, method))"
   ]
  },
  {
   "cell_type": "markdown",
   "metadata": {},
   "source": [
    "### Test Example"
   ]
  },
  {
   "cell_type": "code",
   "execution_count": null,
   "metadata": {},
   "outputs": [
    {
     "name": "stderr",
     "output_type": "stream",
     "text": [
      "[nltk_data] Downloading package punkt to /home/jovyan/nltk_data...\n",
      "[nltk_data]   Package punkt is already up-to-date!\n",
      "[nltk_data] Downloading package stopwords to /home/jovyan/nltk_data...\n",
      "[nltk_data]   Package stopwords is already up-to-date!\n",
      "[nltk_data] Downloading package perluniprops to\n",
      "[nltk_data]     /home/jovyan/nltk_data...\n",
      "[nltk_data]   Package perluniprops is already up-to-date!\n",
      "[nltk_data] Downloading package nonbreaking_prefixes to\n",
      "[nltk_data]     /home/jovyan/nltk_data...\n",
      "[nltk_data]   Package nonbreaking_prefixes is already up-to-date!\n",
      "/opt/conda/lib/python3.7/site-packages/sklearn/linear_model/logistic.py:432: FutureWarning: Default solver will be changed to 'lbfgs' in 0.22. Specify a solver to silence this warning.\n",
      "  FutureWarning)\n",
      "/opt/conda/lib/python3.7/site-packages/sklearn/linear_model/logistic.py:432: FutureWarning: Default solver will be changed to 'lbfgs' in 0.22. Specify a solver to silence this warning.\n",
      "  FutureWarning)\n",
      "/opt/conda/lib/python3.7/site-packages/sklearn/linear_model/logistic.py:469: FutureWarning: Default multi_class will be changed to 'auto' in 0.22. Specify the multi_class option to silence this warning.\n",
      "  \"this warning.\", FutureWarning)\n"
     ]
    }
   ],
   "source": [
    "#test\n",
    "import tempfile\n",
    "from os import path\n",
    "with tempfile.TemporaryDirectory() as tmpdirname:\n",
    "\n",
    "    ds = DialogSystem(\n",
    "        faq_data_file=path.join(tmpdirname, 'faq_example.csv'),\n",
    "        context_data_file=path.join(tmpdirname, 'context_example.csv'),\n",
    "        download_models=False\n",
    "    )\n",
    "\n",
    "    ds.question_answer(question='What is Intekglobal?')\n",
    "\n",
    "    assert ds.question == 'What is Intekglobal?'\n",
    "    assert isinstance(ds.responses['squad'], dict)\n",
    "    assert isinstance(ds.responses['faq'], dict)\n",
    "    \n",
    "    \n",
    "    logging.info(f'{ds.question} \\n\\n {ds.formatted_responses}')\n",
    "\n",
    "    assert 'This should not be in the current set of responses' not in  ds.formatted_responses \n",
    "    \n",
    "    logging.info(f' dict of responses: {ds.responses}')\n",
    "    logging.info(f'{ds.question} \\n\\n {ds.formatted_responses}')\n",
    "\n",
    "    ds.new_question_answer(\n",
    "        question='What day is today?', answer='Today is the day!'\n",
    "    )\n",
    "    ds.question_answer(question='What day is today?')\n",
    "\n",
    "    assert 'Today is the day!' in ds.formatted_responses\n",
    "\n",
    "    context = '''Space Exploration Technologies Corp., trading as SpaceX,\n",
    "    is an American aerospace manufacturer and space transportation services company headquartered\n",
    "    in Hawthorne, California. It was founded in 2002 by Elon Musk with the goal of reducing \n",
    "    space transportation costs to enable the colonization of Mars. SpaceX has developed several launch \n",
    "    vehicles,the Starlink satellite constellation, and the Dragon spacecraft.\n",
    "    '''\n",
    "\n",
    "    ds.new_context(topic='SpaceX', context=context)\n",
    "    ds.question_answer(question='What are SpaceX initials stand for?')\n",
    "\n",
    "    logging.info(f'{ds.question} \\n\\n {ds.formatted_responses}')\n",
    "\n",
    "    assert 'Space Exploration Technologies Corp.' in ds.formatted_responses"
   ]
  },
  {
   "cell_type": "code",
   "execution_count": null,
   "metadata": {},
   "outputs": [],
   "source": [
    "#hide"
   ]
  }
 ],
 "metadata": {
  "kernelspec": {
   "display_name": "Python 3",
   "language": "python",
   "name": "python3"
  }
 },
 "nbformat": 4,
 "nbformat_minor": 4
}
