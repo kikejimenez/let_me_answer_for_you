{
 "cells": [
  {
   "cell_type": "code",
   "execution_count": null,
   "metadata": {},
   "outputs": [],
   "source": [
    "#hide\n",
    "%load_ext autoreload\n",
    "%autoreload 2"
   ]
  },
  {
   "cell_type": "code",
   "execution_count": null,
   "metadata": {},
   "outputs": [],
   "source": [
    "# default_exp dialog_system"
   ]
  },
  {
   "cell_type": "code",
   "execution_count": null,
   "metadata": {},
   "outputs": [],
   "source": [
    "# export\n",
    "from let_me_answer_for_you.settings import *\n",
    "import logging\n",
    "from collections import defaultdict\n",
    "\n",
    "logging.basicConfig(\n",
    "    #filename='example.log',\n",
    "    format='%(asctime)s %(levelname)s:%(message)s',\n",
    "    level=logging.ERROR,\n",
    "    datefmt='%I:%M:%S'\n",
    ")\n",
    "\n",
    "logging.debug(\" Debug Log Active\")\n",
    "logging.info(\"Hello! Welcome to our automated dialog system!\")\n",
    "logging.warning(' Warning Log Active')\n",
    "#logging.error(' Error Log Active ')"
   ]
  },
  {
   "cell_type": "markdown",
   "metadata": {},
   "source": [
    "# Dialog System Class\n",
    "> Class that implements the `question_response`, `new_question_answer` and `new_context` methods"
   ]
  },
  {
   "cell_type": "code",
   "execution_count": null,
   "metadata": {},
   "outputs": [],
   "source": [
    "#export\n",
    "class DialogSystem:\n",
    "    ''' The DialogSystem class implements the main methods\n",
    "    defined in settings module\n",
    "    '''\n",
    "    def __init__(\n",
    "        self,\n",
    "        context_data_file=None,\n",
    "        faq_data_file=None,\n",
    "        configs_faq=None,\n",
    "        download_models=True\n",
    "    ):\n",
    "        run_shell_installs()\n",
    "        self.data = {'context': defaultdict(str), 'faq': defaultdict(str)}\n",
    "        self.download = download_models\n",
    "        load_and_prepare_data(\n",
    "            context_data_file=context_data_file,\n",
    "            faq_data_file=faq_data_file,\n",
    "            configs_faq=configs_faq,\n",
    "            data=self.data\n",
    "        )\n",
    "        self.qa_models = load_qa_models(\n",
    "            config_tfidf=self.data['faq']['config'], download=self.download\n",
    "        )\n",
    "\n",
    "    def question_answer(self):\n",
    "        ''' Gets answer from a question\n",
    "        '''\n",
    "        question, responses = question_response(\n",
    "            data=self.data,\n",
    "            qa_models=self.qa_models,\n",
    "            num_returned_values_per_squad_model=1\n",
    "        )\n",
    "        print('\\n\\n' + responses)\n",
    "\n",
    "    def new_q_a(self):\n",
    "        '''Stores new question answer\n",
    "        '''\n",
    "        new_question_answer(self.data, self.qa_models)\n",
    "\n",
    "    def new_context(self):\n",
    "        '''Stores a new context\n",
    "        '''\n",
    "        new_context(self.data)"
   ]
  },
  {
   "cell_type": "code",
   "execution_count": null,
   "metadata": {},
   "outputs": [],
   "source": [
    "from nbdev.showdoc import *\n",
    "show_doc(DialogSystem)\n",
    "show_doc(DialogSystem.question_answer)\n",
    "show_doc(DialogSystem.new_q_a)\n",
    "show_doc(DialogSystem.new_context)"
   ]
  },
  {
   "cell_type": "code",
   "execution_count": null,
   "metadata": {},
   "outputs": [],
   "source": [
    "#hide\n",
    "ds =  DialogSystem(download_models=False)\n",
    "ds.question_answer()"
   ]
  },
  {
   "cell_type": "code",
   "execution_count": null,
   "metadata": {},
   "outputs": [],
   "source": [
    "#hide\n",
    "ds.new_q_a()"
   ]
  },
  {
   "cell_type": "code",
   "execution_count": null,
   "metadata": {},
   "outputs": [],
   "source": [
    "#hide\n",
    "from shutil import rmtree\n",
    "rmtree('./data', ignore_errors=True)"
   ]
  }
 ],
 "metadata": {
  "kernelspec": {
   "display_name": "Python 3",
   "language": "python",
   "name": "python3"
  }
 },
 "nbformat": 4,
 "nbformat_minor": 4
}
